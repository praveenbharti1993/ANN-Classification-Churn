{
 "cells": [
  {
   "cell_type": "code",
   "execution_count": 28,
   "id": "dec98423",
   "metadata": {},
   "outputs": [],
   "source": [
    "#Import the libraries\n",
    "import streamlit as st\n",
    "import numpy as np\n",
    "import tensorflow as tf\n",
    "from sklearn.preprocessing import StandardScaler,LabelEncoder,OneHotEncoder\n",
    "import pandas as pd\n",
    "import pickle"
   ]
  },
  {
   "cell_type": "code",
   "execution_count": 29,
   "id": "758f184b",
   "metadata": {},
   "outputs": [],
   "source": [
    "#Load the Trained Model and pickle file\n",
    "model=tf.keras.models.load_model('ANN_Model.h5')\n",
    "with open('label_encoder_gender.pkl','rb') as file:\n",
    "    label_encoder_gender=pickle.load(file)\n",
    "with open('onehot_encoder_geo.pkl','rb') as file:\n",
    "    label_encoder_geo=pickle.load(file)\n",
    "with open('scaler.pkl','rb') as file:\n",
    "    scaler=pickle.load(file)"
   ]
  },
  {
   "cell_type": "code",
   "execution_count": 30,
   "id": "e2adf42d",
   "metadata": {},
   "outputs": [],
   "source": [
    "#streamlit app\n",
    "st.title('Customer Churn Prediction')\n",
    "#User input\n",
    "geography=st.selectbox('Geography',label_encoder_geo.categories_[0])\n",
    "gender=st.selectbox('Gender',label_encoder_gender.classes_)\n",
    "age=st.slider('Age',18,92)\n",
    "balance=st.number_input('Balance')\n",
    "credit_score=st.number_input('Credit Score')\n",
    "estimated_salary=st.number_input('Estimated Salary')\n",
    "tenure=st.number_input('Tenure',0,10)\n",
    "num_of_products=st.slider('Number of Products',1,4)\n",
    "has_cr_card=st.selectbox('Has Credit Card',[0,1])\n",
    "is_active_member=st.selectbox('Is Active Member',[0,1])"
   ]
  },
  {
   "cell_type": "code",
   "execution_count": 31,
   "id": "e1bf38d3",
   "metadata": {},
   "outputs": [],
   "source": [
    "#prepare input data\n",
    "input_data=pd.DataFrame({\n",
    "        'CreditScore':[credit_score],\n",
    "        'Gender':[label_encoder_gender.transform([gender])[0]],\n",
    "        'Age':[age],\n",
    "        'Tenure':[tenure],\n",
    "        'Balance':[balance],\n",
    "        'NumOfProducts':[num_of_products],\n",
    "        'HasCrCard':[has_cr_card],\n",
    "        'IsActiveMember':[is_active_member],\n",
    "        'EstimatedSalary':[estimated_salary]\n",
    "})\n"
   ]
  },
  {
   "cell_type": "code",
   "execution_count": 32,
   "id": "5f5876e9",
   "metadata": {},
   "outputs": [
    {
     "name": "stderr",
     "output_type": "stream",
     "text": [
      "C:\\Users\\H896772\\Anaconda3\\lib\\site-packages\\sklearn\\base.py:450: UserWarning: X does not have valid feature names, but OneHotEncoder was fitted with feature names\n",
      "  warnings.warn(\n"
     ]
    }
   ],
   "source": [
    "geo_encoded=label_encoder_geo.transform([[geography]]).toarray()\n",
    "geo_encoded_df=pd.DataFrame(geo_encoded,columns=label_encoder_geo.get_feature_names_out(['Geography']))"
   ]
  },
  {
   "cell_type": "code",
   "execution_count": 33,
   "id": "cda7a427",
   "metadata": {},
   "outputs": [],
   "source": [
    "#combining one hot encoder column with input data\n",
    "input_data=pd.concat([input_data.reset_index(drop=True),geo_encoded_df],axis=1)"
   ]
  },
  {
   "cell_type": "code",
   "execution_count": 34,
   "id": "5c744c51",
   "metadata": {},
   "outputs": [],
   "source": [
    "#Scaling the input data\n",
    "input_scaled=scaler.transform(input_data)"
   ]
  },
  {
   "cell_type": "code",
   "execution_count": 35,
   "id": "e757ccf0",
   "metadata": {},
   "outputs": [
    {
     "name": "stdout",
     "output_type": "stream",
     "text": [
      "1/1 [==============================] - 0s 182ms/step\n"
     ]
    }
   ],
   "source": [
    "prediction=model.predict(input_scaled)\n",
    "prediction_prob=prediction[0][0]\n"
   ]
  },
  {
   "cell_type": "code",
   "execution_count": 36,
   "id": "998a0889",
   "metadata": {},
   "outputs": [
    {
     "name": "stdout",
     "output_type": "stream",
     "text": [
      "The Customer is not likely to churn\n"
     ]
    }
   ],
   "source": [
    "if prediction_prob>0.5:\n",
    "    print('The Customer is likely to churn')\n",
    "else:\n",
    "    print('The Customer is not likely to churn')"
   ]
  },
  {
   "cell_type": "code",
   "execution_count": null,
   "id": "e2ad2188",
   "metadata": {},
   "outputs": [],
   "source": []
  },
  {
   "cell_type": "code",
   "execution_count": null,
   "id": "f52daaee",
   "metadata": {},
   "outputs": [],
   "source": []
  },
  {
   "cell_type": "code",
   "execution_count": null,
   "id": "24b0d3a2",
   "metadata": {},
   "outputs": [],
   "source": []
  },
  {
   "cell_type": "code",
   "execution_count": null,
   "id": "4552dedb",
   "metadata": {},
   "outputs": [],
   "source": []
  },
  {
   "cell_type": "code",
   "execution_count": null,
   "id": "b05aeff9",
   "metadata": {},
   "outputs": [],
   "source": []
  },
  {
   "cell_type": "code",
   "execution_count": null,
   "id": "5ed4d6af",
   "metadata": {},
   "outputs": [],
   "source": []
  },
  {
   "cell_type": "code",
   "execution_count": null,
   "id": "6925c168",
   "metadata": {},
   "outputs": [],
   "source": []
  },
  {
   "cell_type": "code",
   "execution_count": null,
   "id": "d377ebfc",
   "metadata": {},
   "outputs": [],
   "source": []
  }
 ],
 "metadata": {
  "kernelspec": {
   "display_name": "Python 3 (ipykernel)",
   "language": "python",
   "name": "python3"
  },
  "language_info": {
   "codemirror_mode": {
    "name": "ipython",
    "version": 3
   },
   "file_extension": ".py",
   "mimetype": "text/x-python",
   "name": "python",
   "nbconvert_exporter": "python",
   "pygments_lexer": "ipython3",
   "version": "3.9.12"
  }
 },
 "nbformat": 4,
 "nbformat_minor": 5
}
